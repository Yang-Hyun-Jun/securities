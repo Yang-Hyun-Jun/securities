{
 "cells": [
  {
   "cell_type": "code",
   "execution_count": 1,
   "metadata": {},
   "outputs": [
    {
     "name": "stdout",
     "output_type": "stream",
     "text": [
      "/home/hyunjun/workspace/NH\n"
     ]
    }
   ],
   "source": [
    "cd .."
   ]
  },
  {
   "cell_type": "code",
   "execution_count": 2,
   "metadata": {},
   "outputs": [],
   "source": [
    "from chatgpt import set_reward_by_gpt\n",
    "from agent import RLSEARCH"
   ]
  },
  {
   "cell_type": "code",
   "execution_count": 3,
   "metadata": {},
   "outputs": [
    {
     "name": "stdout",
     "output_type": "stream",
     "text": [
      "\n",
      "def get_r(result):\n",
      "    sharpe = result[\"sharpe\"]\n",
      "    expect = result[\"expect\"]\n",
      "    sigma = result[\"sigma\"]\n",
      "    mdd = result[\"mdd\"]\n",
      "\n",
      "    # Calculate reward using the given factors\n",
      "    reward = sharpe + 0.5 * expect - 0.5 * sigma - 0.2 * mdd\n",
      "\n",
      "    # Convert reward to a tensor\n",
      "    reward = torch.tensor([reward])\n",
      "    \n",
      "    return reward\n",
      "\n"
     ]
    }
   ],
   "source": [
    "prompt = '샤프지수가 높은 팩터 투자 전략을 찾아줘'\n",
    "\n",
    "reward_func = set_reward_by_gpt(prompt)\n",
    "print(reward_func)"
   ]
  },
  {
   "cell_type": "code",
   "execution_count": 3,
   "metadata": {},
   "outputs": [],
   "source": [
    "factors = ['D3', 'D7', 'D14', 'NEWS']\n",
    "\n",
    "config = {'Number': 30, \n",
    "            'Quantile': 1,\n",
    "            'Balance': 1000,\n",
    "            'Quarter': '1Q',\n",
    "            'Factors': factors,\n",
    "            'Dim': len(factors)}"
   ]
  },
  {
   "cell_type": "code",
   "execution_count": null,
   "metadata": {},
   "outputs": [],
   "source": [
    "RLsearch = RLSEARCH(config)\n",
    "RLsearch.search(1, '2023-01', '2023-05')"
   ]
  },
  {
   "cell_type": "code",
   "execution_count": 34,
   "metadata": {},
   "outputs": [],
   "source": [
    "RLsearch = RLSEARCH(config)\n",
    "RLsearch.search(300, '2023-01', '2023-05')\n",
    "\n",
    "optimal = RLsearch.get_w(False)\n",
    "optimal = optimal.detach().numpy()\n",
    "RLsearch.init(optimal)\n",
    "PVs, PFs, TIs, POs, result = RLsearch.test('2023-06', '2023-09')"
   ]
  }
 ],
 "metadata": {
  "kernelspec": {
   "display_name": "factor",
   "language": "python",
   "name": "python3"
  },
  "language_info": {
   "codemirror_mode": {
    "name": "ipython",
    "version": 3
   },
   "file_extension": ".py",
   "mimetype": "text/x-python",
   "name": "python",
   "nbconvert_exporter": "python",
   "pygments_lexer": "ipython3",
   "version": "3.11.5"
  },
  "orig_nbformat": 4,
  "vscode": {
   "interpreter": {
    "hash": "f51e0da3e3d90447dcadba55e0cb4a38546033c4e076c9d4b80673409e62cb43"
   }
  }
 },
 "nbformat": 4,
 "nbformat_minor": 2
}
