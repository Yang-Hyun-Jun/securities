{
 "cells": [
  {
   "cell_type": "code",
   "execution_count": 1,
   "metadata": {},
   "outputs": [
    {
     "name": "stdout",
     "output_type": "stream",
     "text": [
      "/home/hyunjun/workspace/NH\n"
     ]
    }
   ],
   "source": [
    "cd .."
   ]
  },
  {
   "cell_type": "code",
   "execution_count": 2,
   "metadata": {},
   "outputs": [],
   "source": [
    "from chatgpt import set_reward_by_gpt\n",
    "from agent import RLSEARCH"
   ]
  },
  {
   "cell_type": "code",
   "execution_count": 3,
   "metadata": {},
   "outputs": [
    {
     "name": "stdout",
     "output_type": "stream",
     "text": [
      "\n",
      "import torch\n",
      "\n",
      "def get_r(result):\n",
      "    sharpe = result[\"sharpe\"]\n",
      "    expect = result[\"expect\"]\n",
      "    sigma = result[\"sigma\"]\n",
      "    mdd = result[\"mdd\"]\n",
      "    \n",
      "    # Calculate reward using sharpe, expect, sigma, mdd\n",
      "    reward = sharpe * sigma - expect * mdd\n",
      "    \n",
      "    # Convert reward to tensor\n",
      "    reward = torch.tensor([reward])\n",
      "    \n",
      "    return reward\n",
      "\n"
     ]
    }
   ],
   "source": [
    "prompt = '샤프지수가 높은 팩터 투자 전략을 찾아줘'\n",
    "\n",
    "reward_func = set_reward_by_gpt(prompt)\n",
    "print(reward_func)"
   ]
  },
  {
   "cell_type": "code",
   "execution_count": 5,
   "metadata": {},
   "outputs": [],
   "source": [
    "factors = ['D3', 'D7', 'D14', 'NEWS']\n",
    "\n",
    "config = {'Number': 30, \n",
    "            'Quantile': 1,\n",
    "            'Balance': 1000,\n",
    "            'Quarter': '1Q',\n",
    "            'Factors': factors,\n",
    "            'Dim': len(factors)}"
   ]
  },
  {
   "cell_type": "code",
   "execution_count": 6,
   "metadata": {},
   "outputs": [
    {
     "name": "stderr",
     "output_type": "stream",
     "text": [
      "100%|██████████| 500/500 [01:21<00:00,  6.14it/s]\n"
     ]
    }
   ],
   "source": [
    "RLsearch = RLSEARCH(config)\n",
    "RLsearch.search(500, '2023-01', '2023-05')\n",
    "\n",
    "optimal = RLsearch.get_w(False)\n",
    "optimal = optimal.detach().numpy()\n",
    "RLsearch.init(optimal)\n",
    "PVs, PFs, TIs, POs, result = RLsearch.test('2023-06', '2023-09')"
   ]
  },
  {
   "cell_type": "code",
   "execution_count": 15,
   "metadata": {},
   "outputs": [
    {
     "data": {
      "text/plain": [
       "array([0.35139486, 0.5252091 , 0.06229683, 0.06109918], dtype=float32)"
      ]
     },
     "execution_count": 15,
     "metadata": {},
     "output_type": "execute_result"
    }
   ],
   "source": [
    "optimal"
   ]
  }
 ],
 "metadata": {
  "kernelspec": {
   "display_name": "factor",
   "language": "python",
   "name": "python3"
  },
  "language_info": {
   "codemirror_mode": {
    "name": "ipython",
    "version": 3
   },
   "file_extension": ".py",
   "mimetype": "text/x-python",
   "name": "python",
   "nbconvert_exporter": "python",
   "pygments_lexer": "ipython3",
   "version": "3.11.5"
  },
  "orig_nbformat": 4,
  "vscode": {
   "interpreter": {
    "hash": "f51e0da3e3d90447dcadba55e0cb4a38546033c4e076c9d4b80673409e62cb43"
   }
  }
 },
 "nbformat": 4,
 "nbformat_minor": 2
}
